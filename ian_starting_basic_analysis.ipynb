{
 "cells": [
  {
   "cell_type": "code",
   "execution_count": 1,
<<<<<<< HEAD
   "source": [
    "import pandas as pd"
   ],
   "outputs": [
    {
     "output_type": "error",
     "ename": "ModuleNotFoundError",
     "evalue": "No module named 'pandas'",
     "traceback": [
      "\u001b[0;31m---------------------------------------------------------------------------\u001b[0m",
      "\u001b[0;31mModuleNotFoundError\u001b[0m                       Traceback (most recent call last)",
      "\u001b[0;32m/var/folders/rc/pdd6p39n70l939ldp9h_xzz40000gn/T/ipykernel_31285/2361753570.py\u001b[0m in \u001b[0;36m<module>\u001b[0;34m\u001b[0m\n\u001b[0;32m----> 1\u001b[0;31m \u001b[0;32mimport\u001b[0m \u001b[0mpandas\u001b[0m \u001b[0;32mas\u001b[0m \u001b[0mpd\u001b[0m\u001b[0;34m\u001b[0m\u001b[0;34m\u001b[0m\u001b[0m\n\u001b[0m\u001b[1;32m      2\u001b[0m \u001b[0;34m\u001b[0m\u001b[0m\n",
      "\u001b[0;31mModuleNotFoundError\u001b[0m: No module named 'pandas'"
     ]
    }
   ],
   "metadata": {}
  },
  {
   "cell_type": "markdown",
   "source": [
    "Read in all the data"
   ],
   "metadata": {}
  },
  {
   "cell_type": "code",
   "execution_count": 5,
   "source": [
    "df_2015 = pd.read_csv('data_files/2015.csv')\r\n",
    "df_2016 = pd.read_csv('data_files/2016.csv')\r\n",
    "df_2017 = pd.read_csv('data_files/2017.csv')\r\n",
    "df_2018 = pd.read_csv('data_files/2018.csv')\r\n",
    "df_2019 = pd.read_csv('data_files/2019.csv')\r\n",
    "df_2020 = pd.read_csv('data_files/2020.csv')"
   ],
   "outputs": [],
   "metadata": {}
  },
  {
   "cell_type": "markdown",
   "source": [
    "First I want to aggregate by the region, to look at averages of stats over a region.  This will be benificial by giving a more \"bird's eye\" view of data.  It will also be benificial is seeing how countries do compared to the  averages of their regions.\n",
    "\n",
    "As well as providing interesting results this will also provide a wealth of \"software engineering\" opprotunities to spice of the project.  I am thinking something that allows to select a region and see how all countries under the regions value compare in a line graph.  Also to select a region and compare it to another region through averages.\n",
    "\n",
    "building out something like this heatmap, https://www.python-graph-gallery.com/405-dendrogram-with-heatmap-and-coloured-leaves but for all regions average data or for a specific region would be cool\n",
    "\n",
    "obviously something like this, https://www.python-graph-gallery.com/choropleth-map/\n",
    "\n",
    "this would be best in a django web interface\n",
    "\n",
    "what variables predict what \n",
    "\n",
    "Not all years have a region column so we need to map this over."
   ],
   "metadata": {}
  },
  {
   "cell_type": "code",
   "execution_count": 15,
   "source": [
    "# first we need mapping DF\n",
    "# 2015, 2016, and 2020 have a country column region column, they need this information aggregated\n",
    "# 2017 has no regional information and needs mapping and aggrigation\n",
    "# 2018 and 2019 already have aggregated regional information  \n",
    "# - it is unclear how this was done, need to read how and/or map countries and aggregate manually for consistency\n",
    "\n",
    "# drop country column (we don't need it in aggregate) and get avg of all other columns\n",
    "df_2015_avg = pd.DataFrame(df_2015.drop(['Country'], axis=1).groupby(['Region'], as_index=False))#.mean(axis=1)\n",
    "df_2016_avg = pd.DataFrame(df_2016.drop(['Country'], axis=1).groupby(['Region'], as_index=False))#.mean(axis=1)\n",
    "df_2020_avg = pd.DataFrame(df_2020.drop(['Country name'], axis=1).groupby(['Regional indicator'], as_index=False))#.mean(axis=1)\n"
   ],
   "outputs": [
    {
     "output_type": "stream",
     "name": "stdout",
     "text": [
      "                                 0  \\\n",
      "0        Australia and New Zealand   \n",
      "1       Central and Eastern Europe   \n",
      "2                     Eastern Asia   \n",
      "3      Latin America and Caribbean   \n",
      "4  Middle East and Northern Africa   \n",
      "5                    North America   \n",
      "6                Southeastern Asia   \n",
      "7                    Southern Asia   \n",
      "8               Sub-Saharan Africa   \n",
      "9                   Western Europe   \n",
      "\n",
      "                                                   1  \n",
      "0                        Region  Happiness Rank  ...  \n",
      "1                           Region  Happiness Ran...  \n",
      "2            Region  Happiness Rank  Happiness Sc...  \n",
      "3                            Region  Happiness Ra...  \n",
      "4                                Region  Happines...  \n",
      "5             Region  Happiness Rank  Happiness S...  \n",
      "6                  Region  Happiness Rank  Happin...  \n",
      "7              Region  Happiness Rank  Happiness ...  \n",
      "8                   Region  Happiness Rank  Happi...  \n",
      "9               Region  Happiness Rank  Happiness...  \n",
      "                                 0  \\\n",
      "0        Australia and New Zealand   \n",
      "1       Central and Eastern Europe   \n",
      "2                     Eastern Asia   \n",
      "3      Latin America and Caribbean   \n",
      "4  Middle East and Northern Africa   \n",
      "5                    North America   \n",
      "6                Southeastern Asia   \n",
      "7                    Southern Asia   \n",
      "8               Sub-Saharan Africa   \n",
      "9                   Western Europe   \n",
      "\n",
      "                                                   1  \n",
      "0                        Region  Happiness Rank  ...  \n",
      "1                           Region  Happiness Ran...  \n",
      "2             Region  Happiness Rank  Happiness S...  \n",
      "3                            Region  Happiness Ra...  \n",
      "4                                Region  Happines...  \n",
      "5             Region  Happiness Rank  Happiness S...  \n",
      "6                  Region  Happiness Rank  Happin...  \n",
      "7              Region  Happiness Rank  Happiness ...  \n",
      "8                   Region  Happiness Rank  Happi...  \n",
      "9              Region  Happiness Rank  Happiness ...  \n",
      "                                    0  \\\n",
      "0          Central and Eastern Europe   \n",
      "1  Commonwealth of Independent States   \n",
      "2                           East Asia   \n",
      "3         Latin America and Caribbean   \n",
      "4        Middle East and North Africa   \n",
      "5               North America and ANZ   \n",
      "6                          South Asia   \n",
      "7                      Southeast Asia   \n",
      "8                  Sub-Saharan Africa   \n",
      "9                      Western Europe   \n",
      "\n",
      "                                                   1  \n",
      "0               Regional indicator  Ladder score ...  \n",
      "1                       Regional indicator  Ladde...  \n",
      "2     Regional indicator  Ladder score  Standard ...  \n",
      "3                Regional indicator  Ladder score...  \n",
      "4                 Regional indicator  Ladder scor...  \n",
      "5         Regional indicator  Ladder score  Stand...  \n",
      "6      Regional indicator  Ladder score  Standard...  \n",
      "7      Regional indicator  Ladder score  Standard...  \n",
      "8       Regional indicator  Ladder score  Standar...  \n",
      "9     Regional indicator  Ladder score  Standard ...  \n"
     ]
    }
   ],
   "metadata": {}
  },
  {
   "cell_type": "markdown",
   "source": [
    "user name: tiffanyz\n",
    "passsword: v-RdD4CSbs@dw@d"
   ],
   "metadata": {}
=======
   "metadata": {},
   "outputs": [],
   "source": [
    "import pandas as pd"
   ]
  },
  {
   "cell_type": "code",
   "execution_count": 2,
   "metadata": {},
   "outputs": [
    {
     "name": "stdout",
     "output_type": "stream",
     "text": [
      "Index(['temperature', 'year', 'statistics', 'country', 'iso3'], dtype='object')\n"
     ]
    }
   ],
   "source": [
    "df_temp = pd.read_csv('data_files/tas_mean_per_month_per_country.csv')\n",
    "df_happy = pd.read_csv('data_files/WHR2021.csv')\n",
    "print(df_temp.columns)"
   ]
  },
  {
   "cell_type": "code",
   "execution_count": 3,
   "metadata": {},
   "outputs": [],
   "source": [
    "df_temp = df_temp.drop(columns=['iso3'])\n",
    "df_temp = df_temp[df_temp['year'] >= 2008]"
   ]
  },
  {
   "cell_type": "code",
   "execution_count": 4,
   "metadata": {},
   "outputs": [],
   "source": [
    "df_temp = df_temp.groupby(['year','country']).mean().reset_index()\n",
    "#df_temp.groupby(['year','country']).mean().to_csv('year_country_mean.csv')"
   ]
  },
  {
   "cell_type": "code",
   "execution_count": 5,
   "metadata": {},
   "outputs": [],
   "source": [
    "mapped_country_temp = (df_happy.merge(df_temp.rename(columns={'country':'Country name'}), on=['Country name', 'year'], how='left'))"
   ]
  },
  {
   "cell_type": "code",
   "execution_count": 6,
   "metadata": {},
   "outputs": [],
   "source": [
    "mapped_country_temp.to_csv(\"testing_mapped.csv\")"
   ]
>>>>>>> 191b8b49db383b077f4aefd793dfb6d2dc8bab3e
  }
 ],
 "metadata": {
  "kernelspec": {
   "display_name": "Python 3 (ipykernel)",
   "language": "python",
   "name": "python3"
  },
  "language_info": {
   "codemirror_mode": {
    "name": "ipython",
    "version": 3
   },
   "file_extension": ".py",
   "mimetype": "text/x-python",
   "name": "python",
   "nbconvert_exporter": "python",
   "pygments_lexer": "ipython3",
   "version": "3.9.2"
  }
 },
 "nbformat": 4,
 "nbformat_minor": 1
}