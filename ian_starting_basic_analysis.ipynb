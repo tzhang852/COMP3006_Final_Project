{
 "cells": [
  {
   "cell_type": "code",
   "execution_count": 1,
   "metadata": {},
   "outputs": [],
   "source": [
    "import pandas as pd"
   ]
  },
  {
   "cell_type": "code",
   "execution_count": 2,
   "metadata": {},
   "outputs": [
    {
     "name": "stdout",
     "output_type": "stream",
     "text": [
      "Index(['temperature', 'year', 'statistics', 'country', 'iso3'], dtype='object')\n"
     ]
    }
   ],
   "source": [
    "df_temp = pd.read_csv('data_files/tas_mean_per_month_per_country.csv')\n",
    "df_happy = pd.read_csv('data_files/WHR2021.csv')\n",
    "print(df_temp.columns)"
   ]
  },
  {
   "cell_type": "code",
   "execution_count": 3,
   "metadata": {},
   "outputs": [],
   "source": [
    "df_temp = df_temp.drop(columns=['iso3'])\n",
    "df_temp = df_temp[df_temp['year'] >= 2008]"
   ]
  },
  {
   "cell_type": "code",
   "execution_count": 4,
   "metadata": {},
   "outputs": [],
   "source": [
    "df_temp = df_temp.groupby(['year','country']).mean().reset_index()\n",
    "#df_temp.groupby(['year','country']).mean().to_csv('year_country_mean.csv')"
   ]
  },
  {
   "cell_type": "code",
   "execution_count": 5,
   "metadata": {},
   "outputs": [],
   "source": [
    "mapped_country_temp = (df_happy.merge(df_temp.rename(columns={'country':'Country name'}), on=['Country name', 'year'], how='left'))"
   ]
  },
  {
   "cell_type": "code",
   "execution_count": 6,
   "metadata": {},
   "outputs": [],
   "source": [
    "mapped_country_temp.to_csv(\"testing_mapped.csv\")"
   ]
  }
 ],
 "metadata": {
  "kernelspec": {
   "display_name": "Python 3 (ipykernel)",
   "language": "python",
   "name": "python3"
  },
  "language_info": {
   "codemirror_mode": {
    "name": "ipython",
    "version": 3
   },
   "file_extension": ".py",
   "mimetype": "text/x-python",
   "name": "python",
   "nbconvert_exporter": "python",
   "pygments_lexer": "ipython3",
   "version": "3.9.2"
  }
 },
 "nbformat": 4,
 "nbformat_minor": 1
}
